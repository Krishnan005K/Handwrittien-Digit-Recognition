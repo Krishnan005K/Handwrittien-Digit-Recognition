{
 "cells": [
  {
   "cell_type": "code",
   "execution_count": 1,
   "metadata": {},
   "outputs": [
    {
     "name": "stderr",
     "output_type": "stream",
     "text": [
      "WARNING:absl:Compiled the loaded model, but the compiled metrics have yet to be built. `model.compile_metrics` will be empty until you train or evaluate the model.\n"
     ]
    },
    {
     "name": "stdout",
     "output_type": "stream",
     "text": [
      "\u001b[1m1/1\u001b[0m \u001b[32m━━━━━━━━━━━━━━━━━━━━\u001b[0m\u001b[37m\u001b[0m \u001b[1m0s\u001b[0m 261ms/step\n"
     ]
    }
   ],
   "source": [
    "from tkinter import *\n",
    "import tkinter as tk\n",
    "from tkinter import Canvas, messagebox\n",
    "import numpy as np\n",
    "from PIL import Image, ImageDraw\n",
    "from tensorflow.keras.models import load_model\n",
    "\n",
    "# Load the trained model\n",
    "model = load_model('mnist.h5')\n",
    "\n",
    "def predict_digit():\n",
    "    # Resize the drawn digit to 28x28 pixels\n",
    "    digit = digit_image.resize((28, 28))\n",
    "    # Convert the image to grayscale\n",
    "    digit = digit.convert('L')\n",
    "    # Convert the image to a numpy array\n",
    "    digit_array = np.array(digit)\n",
    "    # Flatten the array and normalize the pixel values\n",
    "    digit_array = digit_array.reshape(1, 784).astype('float32') / 255.0\n",
    "    # Make the prediction\n",
    "    prediction = model.predict(digit_array)\n",
    "    # Get the predicted class\n",
    "    predicted_class = np.argmax(prediction)\n",
    "    # Display the prediction\n",
    "    messagebox.showinfo(\"Prediction\", f\"The predicted digit is: {predicted_class}\")\n",
    "\n",
    "def clear_digit():\n",
    "    # Clear the drawing canvas\n",
    "    canvas.delete(\"all\")\n",
    "    # Clear the image\n",
    "    draw.rectangle((0, 0, 280, 280), fill=(0, 0, 0))\n",
    "\n",
    "# Create the main window\n",
    "root = Tk()\n",
    "root.title(\"MNIST Digit Recognition\")\n",
    "\n",
    "# Create a drawing canvas\n",
    "canvas = Canvas(root, width=280, height=280, bg='white')\n",
    "canvas.pack()\n",
    "\n",
    "# Create an image to draw on\n",
    "digit_image = Image.new('RGB', (280, 280), (0, 0, 0))\n",
    "draw = ImageDraw.Draw(digit_image)\n",
    "\n",
    "# Function to draw when the mouse is clicked\n",
    "def start_draw(event):\n",
    "    global last_x, last_y\n",
    "    last_x, last_y = event.x, event.y\n",
    "\n",
    "def draw_line(event):\n",
    "    global last_x, last_y\n",
    "    x, y = event.x, event.y\n",
    "    canvas.create_line((last_x, last_y, x, y), width=8, fill='black')\n",
    "    draw.line((last_x, last_y, x, y), fill='white', width=8)\n",
    "    last_x, last_y = x, y\n",
    "\n",
    "canvas.bind(\"<Button-1>\", start_draw)\n",
    "canvas.bind(\"<B1-Motion>\", draw_line)\n",
    "\n",
    "# Create buttons for prediction and clearing the canvas\n",
    "predict_button = Button(root, text=\"Predict\", command=predict_digit)\n",
    "predict_button.pack(side=LEFT, padx=10)\n",
    "clear_button = Button(root, text=\"Clear\", command=clear_digit)\n",
    "clear_button.pack(side=LEFT, padx=10)\n",
    "\n",
    "# Run the Tkinter event loop\n",
    "root.mainloop()\n"
   ]
  }
 ],
 "metadata": {
  "kernelspec": {
   "display_name": "Python 3",
   "language": "python",
   "name": "python3"
  },
  "language_info": {
   "codemirror_mode": {
    "name": "ipython",
    "version": 3
   },
   "file_extension": ".py",
   "mimetype": "text/x-python",
   "name": "python",
   "nbconvert_exporter": "python",
   "pygments_lexer": "ipython3",
   "version": "3.10.11"
  }
 },
 "nbformat": 4,
 "nbformat_minor": 2
}
